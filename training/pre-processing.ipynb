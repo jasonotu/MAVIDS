{
  "nbformat": 4,
  "nbformat_minor": 0,
  "metadata": {
    "colab": {
      "provenance": []
    },
    "kernelspec": {
      "name": "python3",
      "display_name": "Python 3"
    },
    "language_info": {
      "name": "python"
    }
  },
  "cells": [
    {
      "cell_type": "code",
      "metadata": {
        "id": "qXGuAs2150X2",
        "colab": {
          "base_uri": "https://localhost:8080/"
        },
        "outputId": "a5194ece-1c9c-4cd4-c950-2a17a9f3cc94"
      },
      "source": [
        "from google.colab import drive\n",
        "drive.mount('/content/drive')"
      ],
      "execution_count": null,
      "outputs": [
        {
          "output_type": "stream",
          "name": "stdout",
          "text": [
            "Mounted at /content/drive\n"
          ]
        }
      ]
    },
    {
      "cell_type": "code",
      "metadata": {
        "id": "1kajD3BW52op",
        "colab": {
          "base_uri": "https://localhost:8080/"
        },
        "outputId": "b122d3a5-5a55-488c-c17b-ed148b858ed5"
      },
      "source": [
        "pip install pyulog"
      ],
      "execution_count": null,
      "outputs": [
        {
          "output_type": "stream",
          "name": "stdout",
          "text": [
            "Collecting pyulog\n",
            "  Downloading pyulog-0.9.0-py3-none-any.whl (23 kB)\n",
            "Requirement already satisfied: numpy in /usr/local/lib/python3.7/dist-packages (from pyulog) (1.19.5)\n",
            "Installing collected packages: pyulog\n",
            "Successfully installed pyulog-0.9.0\n"
          ]
        }
      ]
    },
    {
      "cell_type": "markdown",
      "source": [
        "Labelling Process"
      ],
      "metadata": {
        "id": "onyu7KLf2Ypi"
      }
    },
    {
      "cell_type": "code",
      "metadata": {
        "id": "Swv1OILC538e",
        "colab": {
          "base_uri": "https://localhost:8080/",
          "height": 236
        },
        "outputId": "5e5f54ef-357f-4ea7-fda8-a543ab692cd9"
      },
      "source": [
        "import subprocess\n",
        "import os\n",
        "import pandas\n",
        "import os\n",
        "import numpy as np\n",
        "\n",
        "for parent_path in os.listdir('/content/drive/Logs/'):\n",
        "\n",
        "  for addition in ['Benign Flight', 'GPS Jamming', 'GPS Spoofing']:\n",
        "    # if \"PX4\" not in parent_path:\n",
        "    #   continue\n",
        "    if addition not in os.listdir('/content/drive/Logs/' + parent_path + '/'):\n",
        "      path = '/content/drive/Logs/' + parent_path + '/'\n",
        "    else:\n",
        "      path = '/content/drive/Logs/' + parent_path + '/' + addition + '/'\n",
        "    print(path)\n",
        "\n",
        "    filepath = ''\n",
        "    os.chdir(path)\n",
        "\n",
        "    for x in os.listdir(\"./\"):\n",
        "      print(x)\n",
        "      if \".ulg\" in x:\n",
        "        filepath = x\n",
        "        break\n",
        "    if not os.path.isdir(path + 'CSVs'):\n",
        "      os.mkdir(path + 'CSVs')\n",
        "    os.chdir(path)\n",
        "    subprocess.run([\"ulog2csv\", \"-o\", path + \"CSVs/\", path + filepath])\n",
        "\n",
        "    #GPS\n",
        "    csv_list = ['vehicle_attitude_0', 'global_position_0','gps_position_0', 'local_position_0']\n",
        "\n",
        "    existing_csv_list = os.listdir(path + \"CSVs/\")\n",
        "    print(existing_csv_list)\n",
        "\n",
        "    final_df = pandas.DataFrame()\n",
        "    final_df_gps = pandas.DataFrame()\n",
        "    final_df_gpsekf = pandas.DataFrame()\n",
        "\n",
        "\n",
        "    for csv in csv_list:\n",
        "        for exist_csv in existing_csv_list:\n",
        "            if csv in exist_csv:\n",
        "                temp_df = pandas.read_csv(path + \"CSVs/\" + exist_csv)\n",
        "                #print(temp_df)\n",
        "                if len(final_df.columns) == 0:\n",
        "                    final_df = temp_df\n",
        "                else:\n",
        "                    final_df = final_df.merge(temp_df, how='outer',left_on='timestamp', right_on='timestamp')\n",
        "                break\n",
        "\n",
        "    final_df = final_df.sort_values('timestamp')\n",
        "    final_df = final_df.set_index('timestamp')\n",
        "    final_df = final_df.interpolate(axis=0, method='linear', limit_direction='both')\n",
        "\n",
        "    past = False\n",
        "    for column in final_df.columns:\n",
        "        if \"timestamp\" in column:\n",
        "            if not past:\n",
        "                past = True\n",
        "                continue\n",
        "            print(column)\n",
        "            final_df = final_df.drop(columns=column)\n",
        "\n",
        "    target_column = []\n",
        "\n",
        "    print(final_df)\n",
        "\n",
        "    #Labelling for GPS\n",
        "    target_column = []\n",
        "    target_lon, target_lat = 0, 0\n",
        "    for index, row, in final_df[['lat_x', 'lon_x']].iterrows():\n",
        "        if len(target_column) == 0:\n",
        "            print(index, row)\n",
        "            target_lat = row['lat_x']\n",
        "            target_lon = row['lon_x']\n",
        "\n",
        "        if (row['lat_x'] > target_lat + 0.03 or row['lat_x'] < target_lat - 0.03) or (row['lon_x'] > target_lon + 0.03 or row['lon_x'] < target_lon - 0.03):\n",
        "            target_column.append(\"malicious\")\n",
        "        else:\n",
        "            target_column.append(\"benign\")\n",
        "    final_df['label'] = target_column\n",
        "\n",
        "    final_df = final_df.replace([np.inf, -np.inf], np.nan).dropna(how='any', axis=1)\n",
        "\n",
        "    if not os.path.isdir(path + 'CSVs/Condensed/'):\n",
        "      os.mkdir(path + 'CSVs/Condensed/')\n",
        "    final_df.to_csv(path + 'CSVs/Condensed/{}.csv'.format(addition))"
      ],
      "execution_count": null,
      "outputs": [
        {
          "output_type": "error",
          "ename": "FileNotFoundError",
          "evalue": "ignored",
          "traceback": [
            "\u001b[0;31m---------------------------------------------------------------------------\u001b[0m",
            "\u001b[0;31mFileNotFoundError\u001b[0m                         Traceback (most recent call last)",
            "\u001b[0;32m<ipython-input-3-09e4f20988f4>\u001b[0m in \u001b[0;36m<module>\u001b[0;34m()\u001b[0m\n\u001b[1;32m      5\u001b[0m \u001b[0;32mimport\u001b[0m \u001b[0mnumpy\u001b[0m \u001b[0;32mas\u001b[0m \u001b[0mnp\u001b[0m\u001b[0;34m\u001b[0m\u001b[0;34m\u001b[0m\u001b[0m\n\u001b[1;32m      6\u001b[0m \u001b[0;34m\u001b[0m\u001b[0m\n\u001b[0;32m----> 7\u001b[0;31m \u001b[0;32mfor\u001b[0m \u001b[0mparent_path\u001b[0m \u001b[0;32min\u001b[0m \u001b[0mos\u001b[0m\u001b[0;34m.\u001b[0m\u001b[0mlistdir\u001b[0m\u001b[0;34m(\u001b[0m\u001b[0;34m'/content/drive/Logs/'\u001b[0m\u001b[0;34m)\u001b[0m\u001b[0;34m:\u001b[0m\u001b[0;34m\u001b[0m\u001b[0;34m\u001b[0m\u001b[0m\n\u001b[0m\u001b[1;32m      8\u001b[0m \u001b[0;34m\u001b[0m\u001b[0m\n\u001b[1;32m      9\u001b[0m   \u001b[0;32mfor\u001b[0m \u001b[0maddition\u001b[0m \u001b[0;32min\u001b[0m \u001b[0;34m[\u001b[0m\u001b[0;34m'Benign Flight'\u001b[0m\u001b[0;34m,\u001b[0m \u001b[0;34m'GPS Jamming'\u001b[0m\u001b[0;34m,\u001b[0m \u001b[0;34m'GPS Spoofing'\u001b[0m\u001b[0;34m]\u001b[0m\u001b[0;34m:\u001b[0m\u001b[0;34m\u001b[0m\u001b[0;34m\u001b[0m\u001b[0m\n",
            "\u001b[0;31mFileNotFoundError\u001b[0m: [Errno 2] No such file or directory: '/content/drive/Logs/'"
          ]
        }
      ]
    },
    {
      "cell_type": "markdown",
      "source": [
        "Show most important features"
      ],
      "metadata": {
        "id": "rE_B7PdX3Tr4"
      }
    },
    {
      "cell_type": "code",
      "source": [
        "\n",
        "df_benign_flight = pd.read_csv( '/content/Drive/Logs/benign.csv')\n",
        "df_malicious_flight = pd.read_csv('/content/Drive/Logs/malicious.csv')\n",
        "\n",
        "df_benign_flight_train = df_benign_flight.drop(columns=['timestamp', 'label'], errors='ignore')\n",
        "\n",
        "feature_names = df_benign_flight_train.columns\n",
        "x = df_benign_flight_train.values\n",
        "x = StandardScaler().fit_transform(x) # standardizing the features\n",
        "train_pca_gps = PCA(.85)\n",
        "train_pc_data = train_pca_gps.fit_transform(x)\n",
        "df_benign_flight_train = pd.DataFrame(data=train_pc_data)\n",
        "\n",
        "# get features with the most influence\n",
        "n_pcs = train_pca_gps.components_.shape[0]\n",
        "print(\"Total kept components: %s\" % n_pcs)\n",
        "most_important = [np.abs(train_pca_gps.components_[i]).argmax() for i in range(n_pcs)]\n",
        "most_important_names = [feature_names[most_important[i]] for i in range(n_pcs)]\n",
        "dic = {'PC{}'.format(i): most_important_names[i] for i in range(n_pcs)}\n",
        "important_features = pd.DataFrame(dic.items())\n",
        "print(\"Most important features: %s\" % important_features)"
      ],
      "metadata": {
        "colab": {
          "base_uri": "https://localhost:8080/",
          "height": 270
        },
        "id": "WrI63dTT2XOT",
        "outputId": "87538e58-eac2-423a-8b0b-a1fb705a748f"
      },
      "execution_count": null,
      "outputs": [
        {
          "output_type": "error",
          "ename": "NameError",
          "evalue": "ignored",
          "traceback": [
            "\u001b[0;31m---------------------------------------------------------------------------\u001b[0m",
            "\u001b[0;31mNameError\u001b[0m                                 Traceback (most recent call last)",
            "\u001b[0;32m<ipython-input-4-52b345865c3e>\u001b[0m in \u001b[0;36m<module>\u001b[0;34m()\u001b[0m\n\u001b[1;32m      1\u001b[0m \u001b[0;34m\u001b[0m\u001b[0m\n\u001b[0;32m----> 2\u001b[0;31m \u001b[0mdf_benign_flight\u001b[0m \u001b[0;34m=\u001b[0m \u001b[0mpd\u001b[0m\u001b[0;34m.\u001b[0m\u001b[0mread_csv\u001b[0m\u001b[0;34m(\u001b[0m \u001b[0;34m'/content/drive/Shareddrives/UAV Security Research/Thesis/Flight Logs/ACE/Visit 2/Benign Flight/CSVs/Condensed/gpsonly.csv'\u001b[0m\u001b[0;34m)\u001b[0m\u001b[0;34m\u001b[0m\u001b[0;34m\u001b[0m\u001b[0m\n\u001b[0m\u001b[1;32m      3\u001b[0m \u001b[0mdf_malicious_flight\u001b[0m \u001b[0;34m=\u001b[0m \u001b[0mpd\u001b[0m\u001b[0;34m.\u001b[0m\u001b[0mread_csv\u001b[0m\u001b[0;34m(\u001b[0m\u001b[0;34m'/content/drive/Shareddrives/UAV Security Research/Thesis/Flight Logs/ACE/Visit 2/GPS Spoofing/HackRF/CSVs/Condensed/gpsonly.csv'\u001b[0m\u001b[0;34m)\u001b[0m\u001b[0;34m\u001b[0m\u001b[0;34m\u001b[0m\u001b[0m\n\u001b[1;32m      4\u001b[0m \u001b[0;34m\u001b[0m\u001b[0m\n\u001b[1;32m      5\u001b[0m \u001b[0mdf_benign_flight_train\u001b[0m \u001b[0;34m=\u001b[0m \u001b[0mdf_benign_flight\u001b[0m\u001b[0;34m.\u001b[0m\u001b[0mdrop\u001b[0m\u001b[0;34m(\u001b[0m\u001b[0mcolumns\u001b[0m\u001b[0;34m=\u001b[0m\u001b[0;34m[\u001b[0m\u001b[0;34m'timestamp'\u001b[0m\u001b[0;34m,\u001b[0m \u001b[0;34m'label'\u001b[0m\u001b[0;34m]\u001b[0m\u001b[0;34m,\u001b[0m \u001b[0merrors\u001b[0m\u001b[0;34m=\u001b[0m\u001b[0;34m'ignore'\u001b[0m\u001b[0;34m)\u001b[0m\u001b[0;34m\u001b[0m\u001b[0;34m\u001b[0m\u001b[0m\n",
            "\u001b[0;31mNameError\u001b[0m: name 'pd' is not defined"
          ]
        }
      ]
    }
  ]
}